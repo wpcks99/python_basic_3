{
 "cells": [
  {
   "cell_type": "markdown",
   "id": "bc641b44",
   "metadata": {
    "id": "bc641b44"
   },
   "source": [
    "# 1.OpenAPI을 이용하여 데이터 수집"
   ]
  },
  {
   "cell_type": "code",
   "execution_count": 18,
   "id": "aaa1f1eb-c493-4947-aa0e-e12117198d54",
   "metadata": {},
   "outputs": [
    {
     "name": "stdout",
     "output_type": "stream",
     "text": [
      "Request successful\n",
      "{\"response\":{\"error\":\"인증정보가 일치하지 않습니다.\"}}\n",
      "{'response': {'error': '인증정보가 일치하지 않습니다.'}}\n"
     ]
    },
    {
     "ename": "KeyError",
     "evalue": "'docs'",
     "output_type": "error",
     "traceback": [
      "\u001b[1;31m---------------------------------------------------------------------------\u001b[0m",
      "\u001b[1;31mKeyError\u001b[0m                                  Traceback (most recent call last)",
      "Cell \u001b[1;32mIn[18], line 32\u001b[0m\n\u001b[0;32m     29\u001b[0m \u001b[38;5;66;03m# 5. ETL\u001b[39;00m\n\u001b[0;32m     30\u001b[0m \u001b[38;5;66;03m# 5-1 데이터 추출\u001b[39;00m\n\u001b[0;32m     31\u001b[0m books \u001b[38;5;241m=\u001b[39m []\n\u001b[1;32m---> 32\u001b[0m \u001b[38;5;28;01mfor\u001b[39;00m d \u001b[38;5;129;01min\u001b[39;00m \u001b[43mdata\u001b[49m\u001b[43m[\u001b[49m\u001b[38;5;124;43m'\u001b[39;49m\u001b[38;5;124;43mresponse\u001b[39;49m\u001b[38;5;124;43m'\u001b[39;49m\u001b[43m]\u001b[49m\u001b[43m[\u001b[49m\u001b[38;5;124;43m'\u001b[39;49m\u001b[38;5;124;43mdocs\u001b[39;49m\u001b[38;5;124;43m'\u001b[39;49m\u001b[43m]\u001b[49m:\n\u001b[0;32m     33\u001b[0m     books\u001b[38;5;241m.\u001b[39mappend(d[\u001b[38;5;124m'\u001b[39m\u001b[38;5;124mdoc\u001b[39m\u001b[38;5;124m'\u001b[39m])\n\u001b[0;32m     35\u001b[0m \u001b[38;5;66;03m# books = [d['doc'] for d in data['response']['docs']] # list complrehension\u001b[39;00m\n\u001b[0;32m     36\u001b[0m \n\u001b[0;32m     37\u001b[0m \u001b[38;5;66;03m# 5-2 리스트을 이용하여  데이터프레임 생성:  list -> DataFrame\u001b[39;00m\n",
      "\u001b[1;31mKeyError\u001b[0m: 'docs'"
     ]
    }
   ],
   "source": [
    "import requests\n",
    "import pandas as pd\n",
    "import json\n",
    "\n",
    "#1. 타겟 사이트 url\n",
    "url = \"http://data4library.kr/api/loanItemSrch?format=json&startDt=2023-01-01&endDt=2023-12-30&age=20&authKey=\"\n",
    "\n",
    "# 2. 페이지 로딩\n",
    "res = requests.get(url)\n",
    "\n",
    "if res.status_code == 200:\n",
    "    print(\"Request successful\")\n",
    "else:\n",
    "    print(\"Error:\", res.status_code)\n",
    "    \n",
    "print(res.text)\n",
    "\n",
    "# # Decode binary content to UTF-8 string\n",
    "# content_str = res.content.decode('utf-8')\n",
    "\n",
    "# 3. Parse the JSON data\n",
    "data = json.loads(res.text)\n",
    "# data = json.loads(content_str)\n",
    "\n",
    "\n",
    "# 4. Print the parsed JSON data\n",
    "print(data)\n",
    "\n",
    "# 5. ETL\n",
    "# 5-1 데이터 추출\n",
    "books = []\n",
    "for d in data['response']['docs']:\n",
    "    books.append(d['doc'])\n",
    "\n",
    "# books = [d['doc'] for d in data['response']['docs']] # list complrehension\n",
    "\n",
    "# 5-2 리스트을 이용하여  데이터프레임 생성:  list -> DataFrame\n",
    "books_df = pd.DataFrame(books)\n",
    "\n",
    "books_df.head()\n",
    "\n",
    "# 5-3 dataFrame 객체을 json 파일로 저장\n",
    "books_df.to_json('20s_best_book_2023.json')\n",
    "\n"
   ]
  },
  {
   "cell_type": "markdown",
   "id": "792f44fb",
   "metadata": {
    "id": "792f44fb"
   },
   "source": [
    "## 2. Open API을 활용한 데이터셋 가공 작업 :  \"20대가 가장 좋아하는 도서목록\""
   ]
  },
  {
   "cell_type": "code",
   "execution_count": null,
   "id": "6128a3fd",
   "metadata": {
    "colab": {
     "base_uri": "https://localhost:8080/",
     "height": 417
    },
    "id": "6128a3fd",
    "outputId": "89201b65-e66b-4af8-9af2-aad8cfe88706"
   },
   "outputs": [],
   "source": [
    "# 1. json file 로딩 -> dataFrame 객체 변환\n",
    "books_df = pd.read_json('20s_best_book_2023.json')\n",
    "books_df.head()"
   ]
  },
  {
   "cell_type": "code",
   "execution_count": null,
   "id": "2c3b1962",
   "metadata": {
    "colab": {
     "base_uri": "https://localhost:8080/",
     "height": 206
    },
    "id": "2c3b1962",
    "outputId": "3a8da6a5-3968-42fc-95ff-4ed83f0901a2"
   },
   "outputs": [],
   "source": [
    "# 2. 특정 열을 선택하여 새 데이터프레임 생성 - 컬럼 인덱싱 이용\n",
    "books_df.columns\n",
    "books = books_df[['no','ranking','bookname','authors','publisher','publication_year','isbn13']]\n",
    "books.head()"
   ]
  },
  {
   "cell_type": "code",
   "execution_count": null,
   "id": "b9bcb956",
   "metadata": {
    "colab": {
     "base_uri": "https://localhost:8080/",
     "height": 206
    },
    "id": "b9bcb956",
    "outputId": "174cdb65-354e-48c3-e99d-cd694897af80"
   },
   "outputs": [],
   "source": [
    "# method) 원하는 데이터프레임 행과 열 동시에 슬라이싱으로 선택하기 - df.loc[:,:]\n",
    "books = books_df.loc[:, 'no':'isbn13']\n",
    "books.head()"
   ]
  },
  {
   "cell_type": "markdown",
   "id": "ff775d45-1f20-4e62-a86f-66bfe30a0bb4",
   "metadata": {},
   "source": [
    "## 3. 추가 데이터 수집: 각 도서별 페이지수 찾기  \n",
    "    *  HTML에서 데이터 추출하기 - BeautifulSoup\n",
    "    1. 크롬 브라우저 개발자 도구로 HTML 태그 찾기\n",
    "    2. 태그 위치 찾기 : soup.find('찾을 태그 이름',attrs={'태그 속성을 딕셔너리로 지정'} \n",
    "    3. soup.select()\n",
    "    "
   ]
  },
  {
   "cell_type": "markdown",
   "id": "e8b139b1-c72c-4553-ae65-92c8574ce8e6",
   "metadata": {},
   "source": [
    "### [문제1] BeautifulSoup으로 HTML에서 첫 번째 도서명의 링크 주소 찾기\n",
    "* 타겟 웹페이지 : https://www.yes24.com/Product/Search?query=9791189327156 # '물고기는 존재하지 않는다'의 ISBN"
   ]
  },
  {
   "cell_type": "code",
   "execution_count": null,
   "id": "077d748b",
   "metadata": {
    "id": "077d748b"
   },
   "outputs": [],
   "source": [
    "from bs4 import BeautifulSoup\n",
    "import requests"
   ]
  },
  {
   "cell_type": "code",
   "execution_count": null,
   "id": "579a0854",
   "metadata": {
    "id": "579a0854"
   },
   "outputs": [],
   "source": [
    "isbn = 9791189327156\n",
    "# 1. target url\n",
    "url = 'https://www.yes24.com/Product/Search?query={}'\n",
    "r = requests.get(url.format(isbn))\n",
    "# 2. response message -> soup object\n",
    "soup = BeautifulSoup(r.text, 'html.parser')\n",
    "prd_link = soup.find('a', attrs={'class':'gd_name'})\n",
    "print(prd_link)\n",
    "#print(prd_link['href'])"
   ]
  },
  {
   "cell_type": "markdown",
   "id": "54f7ad41-fe01-4d3c-876b-13c85ec6a840",
   "metadata": {},
   "source": [
    "### [문제2] BeautifulSoup으로 HTML에서 첫 번째 도서의 페이지수가 담긴 HTML의 위치 찾기\n",
    "* 타겟 웹페이지 : https://www.yes24.com/Product/Goods/105526047\n",
    "* soup.select()"
   ]
  },
  {
   "cell_type": "code",
   "execution_count": null,
   "id": "27-HqVCH3wBP",
   "metadata": {
    "colab": {
     "base_uri": "https://localhost:8080/"
    },
    "id": "27-HqVCH3wBP",
    "outputId": "a80c2396-08b3-49bd-ba6f-06f096bc4f9d"
   },
   "outputs": [],
   "source": [
    "# soup.select()\n",
    "url = 'https://www.yes24.com/Product/Goods/105526047'\n",
    "r= requests.get(url)\n",
    "soup = BeautifulSoup(r.text, 'html.parser')\n",
    "prd_detail= soup.select('#infoset_specific > div.infoSetCont_wrap > div > table > tbody > tr:nth-child(2) > td')\n",
    "print(prd_detail) # list\n",
    "\n",
    "# if prd_detail is not None:\n",
    "#     page = prd_detail[0].text.split('|')[0]\n",
    "#     print(page)\n",
    "# else:\n",
    "#     print(\"The element you're trying to select doesn't exist.\")\n"
   ]
  },
  {
   "cell_type": "markdown",
   "id": "880d52a6",
   "metadata": {
    "id": "880d52a6"
   },
   "source": [
    "### [문제3]  20대가 선호하는 전체 도서의 쪽수 구하여 Series 만들기"
   ]
  },
  {
   "cell_type": "code",
   "execution_count": null,
   "id": "d267046f",
   "metadata": {
    "id": "d267046f"
   },
   "outputs": [],
   "source": [
    "#1. 사용자 정의 함수 : isbn을 전달받아 해당 도서의 페이지 수 반환하기\n",
    "def get_page_cnt(isbn):\n",
    "    # 1. Yes24 도서 검색 페이지 URL에 ISBN을 넣어 HTML 가져오기.\n",
    "    url = 'https://www.yes24.com/Product/Search?query={}'\n",
    "    r = requests.get(url.format(isbn))\n",
    "    #2. soup 객체로 변환\n",
    "    soup = BeautifulSoup(r.text, 'html.parser')   \n",
    "    # 3.검색 결과에서 해당 도서를 선택하기.\n",
    "    prd_info = soup.find('a', attrs={'class':'gd_name'})\n",
    "    if prd_info == None:\n",
    "        return ''\n",
    "    # 4. 도서 상세 페이지를 가져오기.\n",
    "    url = 'http://www.yes24.com'+prd_info['href']\n",
    "    r = requests.get(url)\n",
    "    soup = BeautifulSoup(r.text, 'html.parser')\n",
    "    \n",
    "    # 5. 쪽수가 들어 있는 td를 찾기.\n",
    "    prd_detail= soup.select('#infoset_specific > div.infoSetCont_wrap > div > table > tbody > tr:nth-child(2) > td')\n",
    "    print(prd_detail)\n",
    "    # 6. 페이지 수 추출하기\n",
    "    result = prd_detail[0]\n",
    "    page = result.text.split('|')[0]\n",
    "    return page\n",
    "\n",
    "# 2. 사용자 정의 함수 - 데이터프레임 데이터 도서의 쪽수를 한번에 반환하기\n",
    "def get_multiple_page_cnt(row):\n",
    "    isbn = row['isbn13']\n",
    "    return get_page_cnt(isbn)"
   ]
  },
  {
   "cell_type": "code",
   "execution_count": 19,
   "id": "17307451-a3cc-42fa-9a8a-ab8062dd8e64",
   "metadata": {},
   "outputs": [
    {
     "name": "stdout",
     "output_type": "stream",
     "text": [
      "[<td class=\"txt lastCol\">300쪽 | 480g | 135*210*20mm</td>]\n"
     ]
    },
    {
     "data": {
      "text/plain": [
       "'300쪽 '"
      ]
     },
     "execution_count": 19,
     "metadata": {},
     "output_type": "execute_result"
    }
   ],
   "source": [
    "# 테스트 : 함수 호출\n",
    "get_page_cnt(9791189327156)"
   ]
  },
  {
   "cell_type": "code",
   "execution_count": 20,
   "id": "da739a0a",
   "metadata": {
    "id": "da739a0a"
   },
   "outputs": [
    {
     "ename": "AttributeError",
     "evalue": "'list' object has no attribute 'head'",
     "output_type": "error",
     "traceback": [
      "\u001b[1;31m---------------------------------------------------------------------------\u001b[0m",
      "\u001b[1;31mAttributeError\u001b[0m                            Traceback (most recent call last)",
      "Cell \u001b[1;32mIn[20], line 3\u001b[0m\n\u001b[0;32m      1\u001b[0m \u001b[38;5;66;03m# 테스트 : 함수 호출\u001b[39;00m\n\u001b[0;32m      2\u001b[0m \u001b[38;5;66;03m## 인기 도서 10권 추출 - 데이터프레임\u001b[39;00m\n\u001b[1;32m----> 3\u001b[0m top10_books \u001b[38;5;241m=\u001b[39m \u001b[43mbooks\u001b[49m\u001b[38;5;241;43m.\u001b[39;49m\u001b[43mhead\u001b[49m(\u001b[38;5;241m10\u001b[39m) \n\u001b[0;32m      4\u001b[0m top10_books\n\u001b[0;32m      5\u001b[0m \u001b[38;5;66;03m## 각 행의 반복 작업을 수행하기 위해 데이터프레임의 apply()메서드 적용\u001b[39;00m\n",
      "\u001b[1;31mAttributeError\u001b[0m: 'list' object has no attribute 'head'"
     ]
    }
   ],
   "source": [
    "# 테스트 : 함수 호출\n",
    "## 인기 도서 10권 추출 - 데이터프레임\n",
    "top10_books = books.head(10) \n",
    "top10_books\n",
    "## 각 행의 반복 작업을 수행하기 위해 데이터프레임의 apply()메서드 적용\n",
    "page_count = top10_books.apply(get_multiple_page_cnt, axis = 1)\n",
    "\n",
    "# 전체 도서에 적용하면 ConnectionError 발생 가능\n",
    "# page_count = books.apply(get_multiple_page_cnt, axis = 1)"
   ]
  },
  {
   "cell_type": "code",
   "execution_count": null,
   "id": "238aa768-ce0e-4c5e-81f0-4fe8457f747b",
   "metadata": {},
   "outputs": [],
   "source": [
    "# 쪽수 시리즈 생성\n",
    "page_count = top10_books.apply(get_multiple_page_cnt, axis = 1)\n",
    "\n",
    "type(page_count)\n",
    "page_count.name = 'page_count'\n",
    "print(page_count)"
   ]
  },
  {
   "cell_type": "markdown",
   "id": "e80c33f8-6781-4c3d-9de8-64679d9b7b6b",
   "metadata": {},
   "source": [
    "## 4. 기존 데이터셋과 추가 데이터셋 합치기  \n",
    "* pandas.merge(df, series, left_index=, rught_index=)    "
   ]
  },
  {
   "cell_type": "markdown",
   "id": "a016b2f3-cd54-4475-8a9a-5a1a081d96dc",
   "metadata": {},
   "source": [
    "### [문제]  top10_books와 쪽수 시리즈 합치기 "
   ]
  },
  {
   "cell_type": "code",
   "execution_count": null,
   "id": "7ac45b9f",
   "metadata": {
    "colab": {
     "base_uri": "https://localhost:8080/",
     "height": 363
    },
    "id": "7ac45b9f",
    "outputId": "1fd709eb-9179-4077-b9ac-83016325af89"
   },
   "outputs": [],
   "source": [
    "# 데이터프레임과 시리즈 합치기\n",
    "top10_with_page_count = pd.merge(top10_books, page_count,\n",
    "                                 left_index=True, right_index=True)\n",
    "top10_with_page_count"
   ]
  },
  {
   "cell_type": "markdown",
   "id": "8s0l24QgYL17",
   "metadata": {
    "id": "8s0l24QgYL17"
   },
   "source": [
    "## [연습] merge() 함수의 매개변수 이해하기"
   ]
  },
  {
   "cell_type": "code",
   "execution_count": null,
   "id": "J-0XefxwYLeN",
   "metadata": {
    "colab": {
     "base_uri": "https://localhost:8080/",
     "height": 143
    },
    "id": "J-0XefxwYLeN",
    "outputId": "c8e11217-f9f3-4ae9-cbf9-3fd58212820b"
   },
   "outputs": [],
   "source": [
    "df1 = pd.DataFrame({'col1': ['a','b','c'], 'col2': [1,2,3]})\n",
    "df1"
   ]
  },
  {
   "cell_type": "code",
   "execution_count": null,
   "id": "dcVtBloUYaF9",
   "metadata": {
    "colab": {
     "base_uri": "https://localhost:8080/",
     "height": 143
    },
    "id": "dcVtBloUYaF9",
    "outputId": "a62b75e0-ff7b-400d-913a-5875396285d0"
   },
   "outputs": [],
   "source": [
    "df2 = pd.DataFrame({'col1': ['a','b','d'], 'col3': [10,20,30]})\n",
    "df2"
   ]
  },
  {
   "cell_type": "code",
   "execution_count": null,
   "id": "byJy-hZUY2wT",
   "metadata": {
    "colab": {
     "base_uri": "https://localhost:8080/",
     "height": 112
    },
    "id": "byJy-hZUY2wT",
    "outputId": "7d465798-17de-4657-9b33-b647af85869e"
   },
   "outputs": [],
   "source": [
    "#df1.merge(df2, on = 'col1')"
   ]
  },
  {
   "cell_type": "code",
   "execution_count": null,
   "id": "0ec8fa22-bf53-48c9-8faa-a4241e48be50",
   "metadata": {},
   "outputs": [],
   "source": [
    "pd.merge(df1, df2, on='col1')\n"
   ]
  },
  {
   "cell_type": "code",
   "execution_count": null,
   "id": "3iFR29aJY6rp",
   "metadata": {
    "colab": {
     "base_uri": "https://localhost:8080/",
     "height": 143
    },
    "id": "3iFR29aJY6rp",
    "outputId": "1d1cd0d2-42bd-47ff-f0aa-90dff0cf2764"
   },
   "outputs": [],
   "source": [
    "pd.merge(df1, df2, how='left', on='col1')"
   ]
  },
  {
   "cell_type": "code",
   "execution_count": null,
   "id": "L02Mt5CvY_gJ",
   "metadata": {
    "colab": {
     "base_uri": "https://localhost:8080/",
     "height": 143
    },
    "id": "L02Mt5CvY_gJ",
    "outputId": "99f2f79f-b200-4b93-b8e5-e94b781c00d4"
   },
   "outputs": [],
   "source": [
    "pd.merge(df1, df2, how='right', on='col1')"
   ]
  },
  {
   "cell_type": "code",
   "execution_count": null,
   "id": "JWnkHNCUZDw7",
   "metadata": {
    "colab": {
     "base_uri": "https://localhost:8080/",
     "height": 175
    },
    "id": "JWnkHNCUZDw7",
    "outputId": "7f0d0269-f8ae-4cab-bf7b-9d8340232409"
   },
   "outputs": [],
   "source": [
    "pd.merge(df1, df2, how='outer', on='col1')"
   ]
  },
  {
   "cell_type": "code",
   "execution_count": null,
   "id": "4tWD1a58ZGrx",
   "metadata": {
    "colab": {
     "base_uri": "https://localhost:8080/",
     "height": 112
    },
    "id": "4tWD1a58ZGrx",
    "outputId": "942f7888-0de2-49bf-a983-95ba1c9e757e"
   },
   "outputs": [],
   "source": [
    "pd.merge(df1, df2, left_on='col1', right_on='col1')"
   ]
  },
  {
   "cell_type": "code",
   "execution_count": null,
   "id": "CXR4LsHlZfqQ",
   "metadata": {
    "colab": {
     "base_uri": "https://localhost:8080/",
     "height": 112
    },
    "id": "CXR4LsHlZfqQ",
    "outputId": "b21228c6-20d1-4609-bf08-9d5f3e0e1ecf"
   },
   "outputs": [],
   "source": [
    "pd.merge(df1, df2, left_on='col2', right_index=True)"
   ]
  }
 ],
 "metadata": {
  "colab": {
   "provenance": []
  },
  "kernelspec": {
   "display_name": "Python 3 (ipykernel)",
   "language": "python",
   "name": "python3"
  },
  "language_info": {
   "codemirror_mode": {
    "name": "ipython",
    "version": 3
   },
   "file_extension": ".py",
   "mimetype": "text/x-python",
   "name": "python",
   "nbconvert_exporter": "python",
   "pygments_lexer": "ipython3",
   "version": "3.12.2"
  }
 },
 "nbformat": 4,
 "nbformat_minor": 5
}
