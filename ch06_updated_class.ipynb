{
 "cells": [
  {
   "cell_type": "markdown",
   "metadata": {},
   "source": [
    "# 6장 데이터 로딩과 저장, 파일 형식"
   ]
  },
  {
   "cell_type": "code",
   "execution_count": 29,
   "metadata": {},
   "outputs": [],
   "source": [
    "import numpy as np\n",
    "import pandas as pd\n",
    "np.random.seed(12345)\n",
    "import matplotlib.pyplot as plt\n",
    "plt.rc(\"figure\", figsize=(10, 6))\n",
    "pd.options.display.max_colwidth = 75\n",
    "pd.options.display.max_columns = 20\n",
    "np.set_printoptions(precision=4, suppress=True)\n",
    "plt.rcParams[\"font.family\"] = 'Malgun Gothic'"
   ]
  },
  {
   "cell_type": "markdown",
   "metadata": {},
   "source": [
    "# 1. csv 텍스트 데이터\n",
    "## 1.1 csv파일 읽기\n",
    "* 판다스에서 CSV 파일을 읽기: pd.read_csv(path, encoding = 'utf-8') 함수를 사용\n",
    "    * path 인수 : 파일시스템에서의 위치, URL, 파일객체를 나타내는 문자열\n",
    "    * encoding 인수 - 유니코드 인코딩 종류을 지정\n"
   ]
  },
  {
   "cell_type": "markdown",
   "metadata": {},
   "source": [
    "    1) header(컬럼명)가 있는 파일"
   ]
  },
  {
   "cell_type": "code",
   "execution_count": 5,
   "metadata": {
    "scrolled": true
   },
   "outputs": [
    {
     "data": {
      "text/html": [
       "<div>\n",
       "<style scoped>\n",
       "    .dataframe tbody tr th:only-of-type {\n",
       "        vertical-align: middle;\n",
       "    }\n",
       "\n",
       "    .dataframe tbody tr th {\n",
       "        vertical-align: top;\n",
       "    }\n",
       "\n",
       "    .dataframe thead th {\n",
       "        text-align: right;\n",
       "    }\n",
       "</style>\n",
       "<table border=\"1\" class=\"dataframe\">\n",
       "  <thead>\n",
       "    <tr style=\"text-align: right;\">\n",
       "      <th></th>\n",
       "      <th>a</th>\n",
       "      <th>b</th>\n",
       "      <th>c</th>\n",
       "      <th>d</th>\n",
       "      <th>message</th>\n",
       "    </tr>\n",
       "  </thead>\n",
       "  <tbody>\n",
       "    <tr>\n",
       "      <th>0</th>\n",
       "      <td>1</td>\n",
       "      <td>2</td>\n",
       "      <td>3</td>\n",
       "      <td>4</td>\n",
       "      <td>hello</td>\n",
       "    </tr>\n",
       "    <tr>\n",
       "      <th>1</th>\n",
       "      <td>5</td>\n",
       "      <td>6</td>\n",
       "      <td>7</td>\n",
       "      <td>8</td>\n",
       "      <td>world</td>\n",
       "    </tr>\n",
       "    <tr>\n",
       "      <th>2</th>\n",
       "      <td>9</td>\n",
       "      <td>10</td>\n",
       "      <td>11</td>\n",
       "      <td>12</td>\n",
       "      <td>foo</td>\n",
       "    </tr>\n",
       "  </tbody>\n",
       "</table>\n",
       "</div>"
      ],
      "text/plain": [
       "   a   b   c   d message\n",
       "0  1   2   3   4   hello\n",
       "1  5   6   7   8   world\n",
       "2  9  10  11  12     foo"
      ]
     },
     "execution_count": 5,
     "metadata": {},
     "output_type": "execute_result"
    }
   ],
   "source": [
    "#!cat examples/ex1.csv\n",
    "\n",
    "df = pd.read_csv(\"examples/ex1.csv\") # 데이터프레임으로 반환\n",
    "df"
   ]
  },
  {
   "cell_type": "markdown",
   "metadata": {},
   "source": [
    "    2) header가 없는 파일 : 컬럼을 지정\n",
    "        * names 인수 - 열 이름 리스트\n",
    "        * header 인수 - 헤더가 없을 경우 None으로 지정"
   ]
  },
  {
   "cell_type": "code",
   "execution_count": 12,
   "metadata": {
    "scrolled": true
   },
   "outputs": [
    {
     "data": {
      "text/html": [
       "<div>\n",
       "<style scoped>\n",
       "    .dataframe tbody tr th:only-of-type {\n",
       "        vertical-align: middle;\n",
       "    }\n",
       "\n",
       "    .dataframe tbody tr th {\n",
       "        vertical-align: top;\n",
       "    }\n",
       "\n",
       "    .dataframe thead th {\n",
       "        text-align: right;\n",
       "    }\n",
       "</style>\n",
       "<table border=\"1\" class=\"dataframe\">\n",
       "  <thead>\n",
       "    <tr style=\"text-align: right;\">\n",
       "      <th></th>\n",
       "      <th>a</th>\n",
       "      <th>b</th>\n",
       "      <th>c</th>\n",
       "      <th>d</th>\n",
       "      <th>message</th>\n",
       "    </tr>\n",
       "  </thead>\n",
       "  <tbody>\n",
       "    <tr>\n",
       "      <th>0</th>\n",
       "      <td>1</td>\n",
       "      <td>2</td>\n",
       "      <td>3</td>\n",
       "      <td>4</td>\n",
       "      <td>hello</td>\n",
       "    </tr>\n",
       "    <tr>\n",
       "      <th>1</th>\n",
       "      <td>5</td>\n",
       "      <td>6</td>\n",
       "      <td>7</td>\n",
       "      <td>8</td>\n",
       "      <td>world</td>\n",
       "    </tr>\n",
       "    <tr>\n",
       "      <th>2</th>\n",
       "      <td>9</td>\n",
       "      <td>10</td>\n",
       "      <td>11</td>\n",
       "      <td>12</td>\n",
       "      <td>foo</td>\n",
       "    </tr>\n",
       "  </tbody>\n",
       "</table>\n",
       "</div>"
      ],
      "text/plain": [
       "   a   b   c   d message\n",
       "0  1   2   3   4   hello\n",
       "1  5   6   7   8   world\n",
       "2  9  10  11  12     foo"
      ]
     },
     "execution_count": 12,
     "metadata": {},
     "output_type": "execute_result"
    }
   ],
   "source": [
    "# !cat examples/ex2.csv\n",
    "names = [\"a\", \"b\", \"c\", \"d\", \"message\"]\n",
    "pd.read_csv(\"examples/ex2.csv\", names=names)"
   ]
  },
  {
   "cell_type": "markdown",
   "metadata": {},
   "source": [
    "    3) 계층적 색인 지정하기\n",
    "        * index_col 인수 - 색인으로 사용할 열 번호나 이름, 계층적 색인을 지정할 경우 리스트"
   ]
  },
  {
   "cell_type": "code",
   "execution_count": 14,
   "metadata": {},
   "outputs": [
    {
     "data": {
      "text/plain": [
       "Index(['value1', 'value2'], dtype='object')"
      ]
     },
     "execution_count": 14,
     "metadata": {},
     "output_type": "execute_result"
    }
   ],
   "source": [
    "# !cat examples/csv_mindex.csv\n",
    "parsed = pd.read_csv(\"examples/csv_mindex.csv\",\n",
    "                     index_col=[\"key1\", \"key2\"])\n",
    "parsed.columns"
   ]
  },
  {
   "cell_type": "markdown",
   "metadata": {},
   "source": [
    "    4) 여러 개의 공백으로 필드를 구분한 파일 \n",
    "        * sep 인수 - 필드을 구분하기 위해 사용할 정규 표현식"
   ]
  },
  {
   "cell_type": "code",
   "execution_count": 16,
   "metadata": {},
   "outputs": [
    {
     "name": "stderr",
     "output_type": "stream",
     "text": [
      "<>:2: SyntaxWarning: invalid escape sequence '\\s'\n",
      "<>:2: SyntaxWarning: invalid escape sequence '\\s'\n",
      "C:\\Users\\Yeon Je Chan\\AppData\\Local\\Temp\\ipykernel_13624\\3254688521.py:2: SyntaxWarning: invalid escape sequence '\\s'\n",
      "  result = pd.read_csv(\"examples/ex3.txt\", sep=\"\\s+\")\n"
     ]
    },
    {
     "data": {
      "text/html": [
       "<div>\n",
       "<style scoped>\n",
       "    .dataframe tbody tr th:only-of-type {\n",
       "        vertical-align: middle;\n",
       "    }\n",
       "\n",
       "    .dataframe tbody tr th {\n",
       "        vertical-align: top;\n",
       "    }\n",
       "\n",
       "    .dataframe thead th {\n",
       "        text-align: right;\n",
       "    }\n",
       "</style>\n",
       "<table border=\"1\" class=\"dataframe\">\n",
       "  <thead>\n",
       "    <tr style=\"text-align: right;\">\n",
       "      <th></th>\n",
       "      <th>A</th>\n",
       "      <th>B</th>\n",
       "      <th>C</th>\n",
       "    </tr>\n",
       "  </thead>\n",
       "  <tbody>\n",
       "    <tr>\n",
       "      <th>aaa</th>\n",
       "      <td>-0.264438</td>\n",
       "      <td>-1.026059</td>\n",
       "      <td>-0.619500</td>\n",
       "    </tr>\n",
       "    <tr>\n",
       "      <th>bbb</th>\n",
       "      <td>0.927272</td>\n",
       "      <td>0.302904</td>\n",
       "      <td>-0.032399</td>\n",
       "    </tr>\n",
       "    <tr>\n",
       "      <th>ccc</th>\n",
       "      <td>-0.264273</td>\n",
       "      <td>-0.386314</td>\n",
       "      <td>-0.217601</td>\n",
       "    </tr>\n",
       "    <tr>\n",
       "      <th>ddd</th>\n",
       "      <td>-0.871858</td>\n",
       "      <td>-0.348382</td>\n",
       "      <td>1.100491</td>\n",
       "    </tr>\n",
       "  </tbody>\n",
       "</table>\n",
       "</div>"
      ],
      "text/plain": [
       "            A         B         C\n",
       "aaa -0.264438 -1.026059 -0.619500\n",
       "bbb  0.927272  0.302904 -0.032399\n",
       "ccc -0.264273 -0.386314 -0.217601\n",
       "ddd -0.871858 -0.348382  1.100491"
      ]
     },
     "execution_count": 16,
     "metadata": {},
     "output_type": "execute_result"
    }
   ],
   "source": [
    "# !cat examples/ex3.txt\n",
    "result = pd.read_csv(\"examples/ex3.txt\", sep=\"\\s+\")\n",
    "result"
   ]
  },
  {
   "cell_type": "markdown",
   "metadata": {},
   "source": [
    "    5) 주석을 갖고 있는 파일\n",
    "        * skiprows 인수 - 파일의 시작부터 무시할 행 수 또는 무시할 행 번호가 담긴 리스트"
   ]
  },
  {
   "cell_type": "code",
   "execution_count": 22,
   "metadata": {},
   "outputs": [
    {
     "data": {
      "text/html": [
       "<div>\n",
       "<style scoped>\n",
       "    .dataframe tbody tr th:only-of-type {\n",
       "        vertical-align: middle;\n",
       "    }\n",
       "\n",
       "    .dataframe tbody tr th {\n",
       "        vertical-align: top;\n",
       "    }\n",
       "\n",
       "    .dataframe thead th {\n",
       "        text-align: right;\n",
       "    }\n",
       "</style>\n",
       "<table border=\"1\" class=\"dataframe\">\n",
       "  <thead>\n",
       "    <tr style=\"text-align: right;\">\n",
       "      <th></th>\n",
       "      <th>a</th>\n",
       "      <th>b</th>\n",
       "      <th>c</th>\n",
       "      <th>d</th>\n",
       "      <th>message</th>\n",
       "    </tr>\n",
       "  </thead>\n",
       "  <tbody>\n",
       "    <tr>\n",
       "      <th>0</th>\n",
       "      <td>1</td>\n",
       "      <td>2</td>\n",
       "      <td>3</td>\n",
       "      <td>4</td>\n",
       "      <td>hello</td>\n",
       "    </tr>\n",
       "    <tr>\n",
       "      <th>1</th>\n",
       "      <td>5</td>\n",
       "      <td>6</td>\n",
       "      <td>7</td>\n",
       "      <td>8</td>\n",
       "      <td>world</td>\n",
       "    </tr>\n",
       "    <tr>\n",
       "      <th>2</th>\n",
       "      <td>9</td>\n",
       "      <td>10</td>\n",
       "      <td>11</td>\n",
       "      <td>12</td>\n",
       "      <td>foo</td>\n",
       "    </tr>\n",
       "  </tbody>\n",
       "</table>\n",
       "</div>"
      ],
      "text/plain": [
       "   a   b   c   d message\n",
       "0  1   2   3   4   hello\n",
       "1  5   6   7   8   world\n",
       "2  9  10  11  12     foo"
      ]
     },
     "execution_count": 22,
     "metadata": {},
     "output_type": "execute_result"
    }
   ],
   "source": [
    "# !cat examples/ex4.csv\n",
    "pd.read_csv(\"examples/ex4.csv\", skiprows=[0, 2, 3])"
   ]
  },
  {
   "cell_type": "markdown",
   "metadata": {},
   "source": [
    "    6) 누락된 값이 있는 파일 : 비어 있는 문자열, NA, NULL을 NaN으로 출력 \n",
    "        * na_values 인수 - NA 값으로 처리할 값들의 목록"
   ]
  },
  {
   "cell_type": "code",
   "execution_count": 27,
   "metadata": {},
   "outputs": [
    {
     "name": "stdout",
     "output_type": "stream",
     "text": [
      "  something  a   b     c   d message\n",
      "0       one  1   2   3.0   4     NaN\n",
      "1       NaN  5   6   NaN   8   world\n",
      "2     three  9  10  11.0  12     NaN\n"
     ]
    },
    {
     "data": {
      "text/html": [
       "<div>\n",
       "<style scoped>\n",
       "    .dataframe tbody tr th:only-of-type {\n",
       "        vertical-align: middle;\n",
       "    }\n",
       "\n",
       "    .dataframe tbody tr th {\n",
       "        vertical-align: top;\n",
       "    }\n",
       "\n",
       "    .dataframe thead th {\n",
       "        text-align: right;\n",
       "    }\n",
       "</style>\n",
       "<table border=\"1\" class=\"dataframe\">\n",
       "  <thead>\n",
       "    <tr style=\"text-align: right;\">\n",
       "      <th></th>\n",
       "      <th>something</th>\n",
       "      <th>a</th>\n",
       "      <th>b</th>\n",
       "      <th>c</th>\n",
       "      <th>d</th>\n",
       "      <th>message</th>\n",
       "    </tr>\n",
       "  </thead>\n",
       "  <tbody>\n",
       "    <tr>\n",
       "      <th>0</th>\n",
       "      <td>False</td>\n",
       "      <td>False</td>\n",
       "      <td>False</td>\n",
       "      <td>False</td>\n",
       "      <td>False</td>\n",
       "      <td>True</td>\n",
       "    </tr>\n",
       "    <tr>\n",
       "      <th>1</th>\n",
       "      <td>True</td>\n",
       "      <td>False</td>\n",
       "      <td>False</td>\n",
       "      <td>True</td>\n",
       "      <td>False</td>\n",
       "      <td>False</td>\n",
       "    </tr>\n",
       "    <tr>\n",
       "      <th>2</th>\n",
       "      <td>False</td>\n",
       "      <td>False</td>\n",
       "      <td>False</td>\n",
       "      <td>False</td>\n",
       "      <td>False</td>\n",
       "      <td>True</td>\n",
       "    </tr>\n",
       "  </tbody>\n",
       "</table>\n",
       "</div>"
      ],
      "text/plain": [
       "   something      a      b      c      d  message\n",
       "0      False  False  False  False  False     True\n",
       "1       True  False  False   True  False    False\n",
       "2      False  False  False  False  False     True"
      ]
     },
     "execution_count": 27,
     "metadata": {},
     "output_type": "execute_result"
    }
   ],
   "source": [
    "# !cat examples/ex5.csv\n",
    "\n",
    "result = pd.read_csv(\"examples/ex5.csv\")\n",
    "result\n",
    "# 1) 누락된 값을 확인 : isna(), isnull() : 결측치 True, isnot(), notNa(): 결측치가 아닌것 True\n",
    "pd.isna(result)\n",
    "\n",
    "# # 2) na_values -> 컬럼별 문자열 집합을 받아서 누락된 값 처리\n",
    "sentinels = {\"message\": [\"foo\", \"NA\"], \"something\": [\"two\"]}\n",
    "result = pd.read_csv(\"examples/ex5.csv\", na_values=sentinels)\n",
    "print(result)\n",
    "result.isna()"
   ]
  },
  {
   "cell_type": "markdown",
   "metadata": {},
   "source": [
    "    7) 텍스트 파일 조금씩 \n",
    "        * nrows 인수 - 파일의 첫 일부만 읽어올 때 처음 몇 줄을 읽을 것인지 지정 \n",
    "        * chunksize 인수 - TextParser 객체에서 사용할 한 번에 읽을 파일의 크기"
   ]
  },
  {
   "cell_type": "code",
   "execution_count": 31,
   "metadata": {
    "scrolled": true
   },
   "outputs": [
    {
     "data": {
      "text/html": [
       "<div>\n",
       "<style scoped>\n",
       "    .dataframe tbody tr th:only-of-type {\n",
       "        vertical-align: middle;\n",
       "    }\n",
       "\n",
       "    .dataframe tbody tr th {\n",
       "        vertical-align: top;\n",
       "    }\n",
       "\n",
       "    .dataframe thead th {\n",
       "        text-align: right;\n",
       "    }\n",
       "</style>\n",
       "<table border=\"1\" class=\"dataframe\">\n",
       "  <thead>\n",
       "    <tr style=\"text-align: right;\">\n",
       "      <th></th>\n",
       "      <th>one</th>\n",
       "      <th>two</th>\n",
       "      <th>three</th>\n",
       "      <th>four</th>\n",
       "      <th>key</th>\n",
       "    </tr>\n",
       "  </thead>\n",
       "  <tbody>\n",
       "    <tr>\n",
       "      <th>0</th>\n",
       "      <td>0.467976</td>\n",
       "      <td>-0.038649</td>\n",
       "      <td>-0.295344</td>\n",
       "      <td>-1.824726</td>\n",
       "      <td>L</td>\n",
       "    </tr>\n",
       "    <tr>\n",
       "      <th>1</th>\n",
       "      <td>-0.358893</td>\n",
       "      <td>1.404453</td>\n",
       "      <td>0.704965</td>\n",
       "      <td>-0.200638</td>\n",
       "      <td>B</td>\n",
       "    </tr>\n",
       "    <tr>\n",
       "      <th>2</th>\n",
       "      <td>-0.501840</td>\n",
       "      <td>0.659254</td>\n",
       "      <td>-0.421691</td>\n",
       "      <td>-0.057688</td>\n",
       "      <td>G</td>\n",
       "    </tr>\n",
       "    <tr>\n",
       "      <th>3</th>\n",
       "      <td>0.204886</td>\n",
       "      <td>1.074134</td>\n",
       "      <td>1.388361</td>\n",
       "      <td>-0.982404</td>\n",
       "      <td>R</td>\n",
       "    </tr>\n",
       "    <tr>\n",
       "      <th>4</th>\n",
       "      <td>0.354628</td>\n",
       "      <td>-0.133116</td>\n",
       "      <td>0.283763</td>\n",
       "      <td>-0.837063</td>\n",
       "      <td>Q</td>\n",
       "    </tr>\n",
       "  </tbody>\n",
       "</table>\n",
       "</div>"
      ],
      "text/plain": [
       "        one       two     three      four key\n",
       "0  0.467976 -0.038649 -0.295344 -1.824726   L\n",
       "1 -0.358893  1.404453  0.704965 -0.200638   B\n",
       "2 -0.501840  0.659254 -0.421691 -0.057688   G\n",
       "3  0.204886  1.074134  1.388361 -0.982404   R\n",
       "4  0.354628 -0.133116  0.283763 -0.837063   Q"
      ]
     },
     "execution_count": 31,
     "metadata": {},
     "output_type": "execute_result"
    }
   ],
   "source": [
    "#pd.options.display.max_rows = 10\n",
    "# result = pd.read_csv(\"examples/ex6.csv\")\n",
    "# result\n",
    "result = pd.read_csv(\"examples/ex6.csv\", nrows=5)\n",
    "result"
   ]
  },
  {
   "cell_type": "markdown",
   "metadata": {},
   "source": [
    "### [예제]  ex6.csv 파일의 \"key\" 컬럼의 값들에 대한 빈도수을 계산하기"
   ]
  },
  {
   "cell_type": "code",
   "execution_count": 40,
   "metadata": {},
   "outputs": [
    {
     "data": {
      "text/plain": [
       "key\n",
       "E    368.0\n",
       "X    364.0\n",
       "L    346.0\n",
       "O    343.0\n",
       "Q    340.0\n",
       "M    338.0\n",
       "J    337.0\n",
       "F    335.0\n",
       "K    334.0\n",
       "H    330.0\n",
       "dtype: float64"
      ]
     },
     "execution_count": 40,
     "metadata": {},
     "output_type": "execute_result"
    }
   ],
   "source": [
    "# !cat examples/ex6.csv\n",
    "chunker = pd.read_csv(\"examples/ex6.csv\", chunksize=1000)\n",
    "chunker\n",
    "tot = pd.Series([], dtype='int64')\n",
    "\n",
    "# \"key\" 칼럼의 값들에 대한 누적의 합\n",
    "for piece in chunker: # 10번 반복 수행\n",
    "    # print(piece[\"key\"].value_counts())\n",
    "    tot = tot.add(piece[\"key\"].value_counts(), fill_value=0)\n",
    "\n",
    "tot\n",
    "\n",
    "tot = tot.sort_values(ascending=False)\n",
    "tot\n",
    "tot[:10]"
   ]
  },
  {
   "cell_type": "code",
   "execution_count": 37,
   "metadata": {},
   "outputs": [
    {
     "data": {
      "text/plain": [
       "0    3.0\n",
       "1    6.0\n",
       "2    9.0\n",
       "dtype: float64"
      ]
     },
     "execution_count": 37,
     "metadata": {},
     "output_type": "execute_result"
    }
   ],
   "source": [
    "# 시리즈 간 연산\n",
    "from pandas import Series\n",
    "tot = Series([], dtype='int64')\n",
    "tot1 = Series([1,2,3])\n",
    "#tot + tot1\n",
    "for i in range(3):\n",
    "    tot = tot.add(tot1, fill_value = 0)\n",
    "\n",
    "tot"
   ]
  },
  {
   "cell_type": "markdown",
   "metadata": {},
   "source": [
    "## 1.2. csv 텍스트 파일 저장하기\n",
    "* 판다스에서 CSV 파일을 저장하기: df.to_csv(path, encoding = 'utf-8') 함수를 사용\n",
    "    * path 인수 : 파일시스템에서의 위치, URL, 파일객체를 나타내는 문자열\n",
    "    * encoding 인수 - 유니코드 인코딩 종류을 지정\n"
   ]
  },
  {
   "cell_type": "code",
   "execution_count": 42,
   "metadata": {},
   "outputs": [],
   "source": [
    "# csv 파일로 저장\n",
    "# 1. 데이터프레임 준비\n",
    "data = pd.read_csv(\"examples/ex5.csv\") # 원본에 대한 데이터프레임\n",
    "data\n",
    "data1 = data[['a','b','d']] # 컬럼 인덱싱 이용 데이터 추출\n",
    "data1\n",
    "\n",
    "# 2. 데이터프레임을 파일로 저장\n",
    "data1.to_csv(\"examples/out.csv\")"
   ]
  },
  {
   "cell_type": "code",
   "execution_count": 12,
   "metadata": {},
   "outputs": [],
   "source": [
    "data.to_csv(\"examples/out.csv\", sep=\"|\") # 구분자 사용\n",
    "data1.to_csv(\"examples/out.csv\", na_rep = \"NULL\") #누락된 값을 원하는 값으로 지정\n",
    "data.to_csv(\"examples/out.csv\", index=False, header=False)\n",
    "data.to_csv(\"examples/out.csv\", index=False, columns=[\"a\", \"b\", \"c\"])\n"
   ]
  },
  {
   "cell_type": "markdown",
   "metadata": {},
   "source": [
    "# 2. JSON  데이터\n",
    "* JSON(JavaScript Object Notation)은 텍스트 데이터를 저장하고 전송하기 위한 일반적인 형식\n",
    "* 주로 웹에서 데이터를 전송하거나 저장하는 데 사용\n",
    "* JSON 파일은 일반적으로 텍스트 형식으로 작성되며, 사람과 기계 모두 이해하기 쉽다.\n",
    "* JSON 파일은 키-값 쌍의 모음으로 구성\n",
    "  * 키-값 쌍은 객체(object)라고도 하며, 중괄호 {} 로 묶는다.\n",
    "  * 배열(array)은 대괄호 [] 안에 값의 목록을 나열하여 정의."
   ]
  },
  {
   "cell_type": "markdown",
   "metadata": {},
   "source": [
    "## 2.1 JSON 데이터 읽기/저장\n",
    "    * pandas의 to_json() -> 데이터프레임을 JSON 파일로 저\n",
    "    * read_json() -> JSON 파일에서 데이터프레임을 읽어오기"
   ]
  },
  {
   "cell_type": "markdown",
   "metadata": {},
   "source": [
    "### [예제]  pandas의 to_json() 및 read_json() 메서드를 사용하여 데이터프레임을 JSON 파일로 저장하고 읽기"
   ]
  },
  {
   "cell_type": "code",
   "execution_count": 46,
   "metadata": {},
   "outputs": [
    {
     "name": "stdout",
     "output_type": "stream",
     "text": [
      "Original DataFrame:\n",
      "    name  age         city\n",
      "0   John   30     New York\n",
      "1  Alice   25  Los Angeles\n",
      "2    Bob   35      Chicago\n",
      "\n",
      "DataFrame from JSON file:\n",
      "    name  age         city\n",
      "0   John   30     New York\n",
      "1  Alice   25  Los Angeles\n",
      "2    Bob   35      Chicago\n"
     ]
    }
   ],
   "source": [
    "import pandas as pd\n",
    "\n",
    "# 1. JSON 파일로 저장할 데이터프레임 생성\n",
    "data = {\n",
    "    \"name\": [\"John\", \"Alice\", \"Bob\"],\n",
    "    \"age\": [30, 25, 35],\n",
    "    \"city\": [\"New York\", \"Los Angeles\", \"Chicago\"]\n",
    "}\n",
    "df = pd.DataFrame(data)\n",
    "\n",
    "# 2. 데이터프레임을 JSON 파일로 저장\n",
    "df.to_json(\"examples/data.json\")\n",
    "\n",
    "# 3. JSON 파일을 읽어와 데이터프레임으로 변환\n",
    "df_read = pd.read_json(\"examples/data.json\")\n",
    "\n",
    "print(\"Original DataFrame:\")\n",
    "print(df)\n",
    "\n",
    "print(\"\\nDataFrame from JSON file:\")\n",
    "print(df_read)\n"
   ]
  },
  {
   "cell_type": "markdown",
   "metadata": {},
   "source": [
    "# 3. HTML 데이터\n",
    "## 3.1 웹 스크래핑 - read_html()"
   ]
  },
  {
   "attachments": {},
   "cell_type": "markdown",
   "metadata": {},
   "source": [
    "* read_html() - html 문서 내 테이블 데이터 읽어 테이블 구조의 모든 데이터를 데이터프레임으로 저장해서 반환\n",
    "    * https://www.fdic.gov/resources/resolutions/bank-failures/failed-bank-list/\n"
   ]
  },
  {
   "cell_type": "markdown",
   "metadata": {},
   "source": [
    "#### [예제] 미국 예금 보험 공사에서 부도 은행을 보여주는 HTML 문서의 테이블 데이터 읽어오기\n",
    "    * 연도별로 부도 은행의 개수을 계산하시오. "
   ]
  },
  {
   "cell_type": "code",
   "execution_count": 51,
   "metadata": {},
   "outputs": [
    {
     "name": "stdout",
     "output_type": "stream",
     "text": [
      "Requirement already satisfied: lxml in c:\\users\\yeon je chan\\appdata\\local\\programs\\python\\python312\\lib\\site-packages (5.2.1)\n",
      "Note: you may need to restart the kernel to use updated packages.\n"
     ]
    }
   ],
   "source": [
    "pip install lxml"
   ]
  },
  {
   "cell_type": "code",
   "execution_count": 56,
   "metadata": {
    "scrolled": true
   },
   "outputs": [
    {
     "data": {
      "text/html": [
       "<div>\n",
       "<style scoped>\n",
       "    .dataframe tbody tr th:only-of-type {\n",
       "        vertical-align: middle;\n",
       "    }\n",
       "\n",
       "    .dataframe tbody tr th {\n",
       "        vertical-align: top;\n",
       "    }\n",
       "\n",
       "    .dataframe thead th {\n",
       "        text-align: right;\n",
       "    }\n",
       "</style>\n",
       "<table border=\"1\" class=\"dataframe\">\n",
       "  <thead>\n",
       "    <tr style=\"text-align: right;\">\n",
       "      <th></th>\n",
       "      <th>Bank NameBank</th>\n",
       "      <th>CityCity</th>\n",
       "      <th>StateSt</th>\n",
       "      <th>CertCert</th>\n",
       "      <th>Acquiring InstitutionAI</th>\n",
       "      <th>Closing DateClosing</th>\n",
       "      <th>FundFund</th>\n",
       "    </tr>\n",
       "  </thead>\n",
       "  <tbody>\n",
       "    <tr>\n",
       "      <th>0</th>\n",
       "      <td>Citizens Bank</td>\n",
       "      <td>Sac City</td>\n",
       "      <td>IA</td>\n",
       "      <td>8758</td>\n",
       "      <td>Iowa Trust &amp; Savings Bank</td>\n",
       "      <td>November 3, 2023</td>\n",
       "      <td>10545</td>\n",
       "    </tr>\n",
       "    <tr>\n",
       "      <th>1</th>\n",
       "      <td>Heartland Tri-State Bank</td>\n",
       "      <td>Elkhart</td>\n",
       "      <td>KS</td>\n",
       "      <td>25851</td>\n",
       "      <td>Dream First Bank, N.A.</td>\n",
       "      <td>July 28, 2023</td>\n",
       "      <td>10544</td>\n",
       "    </tr>\n",
       "    <tr>\n",
       "      <th>2</th>\n",
       "      <td>First Republic Bank</td>\n",
       "      <td>San Francisco</td>\n",
       "      <td>CA</td>\n",
       "      <td>59017</td>\n",
       "      <td>JPMorgan Chase Bank, N.A.</td>\n",
       "      <td>May 1, 2023</td>\n",
       "      <td>10543</td>\n",
       "    </tr>\n",
       "    <tr>\n",
       "      <th>3</th>\n",
       "      <td>Signature Bank</td>\n",
       "      <td>New York</td>\n",
       "      <td>NY</td>\n",
       "      <td>57053</td>\n",
       "      <td>Flagstar Bank, N.A.</td>\n",
       "      <td>March 12, 2023</td>\n",
       "      <td>10540</td>\n",
       "    </tr>\n",
       "    <tr>\n",
       "      <th>4</th>\n",
       "      <td>Silicon Valley Bank</td>\n",
       "      <td>Santa Clara</td>\n",
       "      <td>CA</td>\n",
       "      <td>24735</td>\n",
       "      <td>First–Citizens Bank &amp; Trust Company</td>\n",
       "      <td>March 10, 2023</td>\n",
       "      <td>10539</td>\n",
       "    </tr>\n",
       "  </tbody>\n",
       "</table>\n",
       "</div>"
      ],
      "text/plain": [
       "              Bank NameBank       CityCity StateSt  CertCert  \\\n",
       "0             Citizens Bank       Sac City      IA      8758   \n",
       "1  Heartland Tri-State Bank        Elkhart      KS     25851   \n",
       "2       First Republic Bank  San Francisco      CA     59017   \n",
       "3            Signature Bank       New York      NY     57053   \n",
       "4       Silicon Valley Bank    Santa Clara      CA     24735   \n",
       "\n",
       "               Acquiring InstitutionAI Closing DateClosing  FundFund  \n",
       "0            Iowa Trust & Savings Bank    November 3, 2023     10545  \n",
       "1               Dream First Bank, N.A.       July 28, 2023     10544  \n",
       "2            JPMorgan Chase Bank, N.A.         May 1, 2023     10543  \n",
       "3                  Flagstar Bank, N.A.      March 12, 2023     10540  \n",
       "4  First–Citizens Bank & Trust Company      March 10, 2023     10539  "
      ]
     },
     "execution_count": 56,
     "metadata": {},
     "output_type": "execute_result"
    }
   ],
   "source": [
    "import pandas as pd\n",
    "\n",
    "#tables = pd.read_html(\"examples/fdic_failed_bank_list.html\") \n",
    "tables = pd.read_html(\"https://www.fdic.gov/resources/resolutions/bank-failures/failed-bank-list/\")\n",
    "type(tables)\n",
    "len(tables)\n",
    "failures = tables[0]\n",
    "failures\n",
    "type(failures)\n",
    "failures.head()"
   ]
  },
  {
   "cell_type": "code",
   "execution_count": 57,
   "metadata": {
    "scrolled": true
   },
   "outputs": [
    {
     "data": {
      "text/html": [
       "<div>\n",
       "<style scoped>\n",
       "    .dataframe tbody tr th:only-of-type {\n",
       "        vertical-align: middle;\n",
       "    }\n",
       "\n",
       "    .dataframe tbody tr th {\n",
       "        vertical-align: top;\n",
       "    }\n",
       "\n",
       "    .dataframe thead th {\n",
       "        text-align: right;\n",
       "    }\n",
       "</style>\n",
       "<table border=\"1\" class=\"dataframe\">\n",
       "  <thead>\n",
       "    <tr style=\"text-align: right;\">\n",
       "      <th></th>\n",
       "      <th>BankNameBank</th>\n",
       "      <th>CityCity</th>\n",
       "      <th>StateSt</th>\n",
       "      <th>CertCert</th>\n",
       "      <th>AcquiringInstitutionAI</th>\n",
       "      <th>ClosingDate</th>\n",
       "      <th>FundFund</th>\n",
       "    </tr>\n",
       "  </thead>\n",
       "  <tbody>\n",
       "    <tr>\n",
       "      <th>0</th>\n",
       "      <td>Citizens Bank</td>\n",
       "      <td>Sac City</td>\n",
       "      <td>IA</td>\n",
       "      <td>8758</td>\n",
       "      <td>Iowa Trust &amp; Savings Bank</td>\n",
       "      <td>November 3, 2023</td>\n",
       "      <td>10545</td>\n",
       "    </tr>\n",
       "    <tr>\n",
       "      <th>1</th>\n",
       "      <td>Heartland Tri-State Bank</td>\n",
       "      <td>Elkhart</td>\n",
       "      <td>KS</td>\n",
       "      <td>25851</td>\n",
       "      <td>Dream First Bank, N.A.</td>\n",
       "      <td>July 28, 2023</td>\n",
       "      <td>10544</td>\n",
       "    </tr>\n",
       "    <tr>\n",
       "      <th>2</th>\n",
       "      <td>First Republic Bank</td>\n",
       "      <td>San Francisco</td>\n",
       "      <td>CA</td>\n",
       "      <td>59017</td>\n",
       "      <td>JPMorgan Chase Bank, N.A.</td>\n",
       "      <td>May 1, 2023</td>\n",
       "      <td>10543</td>\n",
       "    </tr>\n",
       "  </tbody>\n",
       "</table>\n",
       "</div>"
      ],
      "text/plain": [
       "               BankNameBank       CityCity StateSt  CertCert  \\\n",
       "0             Citizens Bank       Sac City      IA      8758   \n",
       "1  Heartland Tri-State Bank        Elkhart      KS     25851   \n",
       "2       First Republic Bank  San Francisco      CA     59017   \n",
       "\n",
       "      AcquiringInstitutionAI       ClosingDate  FundFund  \n",
       "0  Iowa Trust & Savings Bank  November 3, 2023     10545  \n",
       "1     Dream First Bank, N.A.     July 28, 2023     10544  \n",
       "2  JPMorgan Chase Bank, N.A.       May 1, 2023     10543  "
      ]
     },
     "execution_count": 57,
     "metadata": {},
     "output_type": "execute_result"
    }
   ],
   "source": [
    "# 2. 연도별로 부도 은행의 개수 : DataFrame 가공\n",
    "# 1) 컬럼명 확인/ 수정하기 / 확인\n",
    "failures.columns\n",
    "failures.columns = ['BankNameBank', 'CityCity', 'StateSt', 'CertCert',\n",
    "       'AcquiringInstitutionAI', 'ClosingDate', 'FundFund']\n",
    "failures.head(3)"
   ]
  },
  {
   "cell_type": "code",
   "execution_count": 58,
   "metadata": {
    "scrolled": true
   },
   "outputs": [
    {
     "data": {
      "text/plain": [
       "ClosingDate\n",
       "2010    157\n",
       "2009    140\n",
       "2011     92\n",
       "2012     51\n",
       "2008     25\n",
       "2013     24\n",
       "2014     18\n",
       "2002     11\n",
       "2017      8\n",
       "2015      8\n",
       "2023      5\n",
       "2016      5\n",
       "2020      4\n",
       "2004      4\n",
       "2019      4\n",
       "2001      4\n",
       "2007      3\n",
       "2003      3\n",
       "2000      2\n",
       "Name: count, dtype: int64"
      ]
     },
     "execution_count": 58,
     "metadata": {},
     "output_type": "execute_result"
    }
   ],
   "source": [
    "# 2) 데이터 변환 : 문자열 -> datetime\n",
    "failures[\"ClosingDate\"] # 컬럼 인덱싱을 이용해서 시리즈로 추출\n",
    "close_timestamps = pd.to_datetime(failures[\"ClosingDate\"])\n",
    "close_timestamps\n",
    "# 3) 년도별 데이터 개수 추출\n",
    "close_timestamps.dt.year\n",
    "close_timestamps.dt.year.value_counts()"
   ]
  },
  {
   "cell_type": "markdown",
   "metadata": {},
   "source": [
    "#### [문제] : 네이버 주식 데이터을 스크래핑하여 csv파일로 저장하기 - read_html()\n",
    "* https://www.naver.com/ -> 증권 -> 국내증시 -> 시가총액\n",
    "    * https://finance.naver.com/sise/sise_market_sum.naver"
   ]
  },
  {
   "cell_type": "code",
   "execution_count": 59,
   "metadata": {},
   "outputs": [
    {
     "name": "stdout",
     "output_type": "stream",
     "text": [
      "Collecting html5lib\n",
      "  Downloading html5lib-1.1-py2.py3-none-any.whl.metadata (16 kB)\n",
      "Requirement already satisfied: lxml in c:\\users\\yeon je chan\\appdata\\local\\programs\\python\\python312\\lib\\site-packages (5.2.1)\n",
      "Requirement already satisfied: six>=1.9 in c:\\users\\yeon je chan\\appdata\\local\\programs\\python\\python312\\lib\\site-packages (from html5lib) (1.16.0)\n",
      "Requirement already satisfied: webencodings in c:\\users\\yeon je chan\\appdata\\local\\programs\\python\\python312\\lib\\site-packages (from html5lib) (0.5.1)\n",
      "Downloading html5lib-1.1-py2.py3-none-any.whl (112 kB)\n",
      "   ---------------------------------------- 0.0/112.2 kB ? eta -:--:--\n",
      "   ---------- ----------------------------- 30.7/112.2 kB ? eta -:--:--\n",
      "   ------------------------------------ --- 102.4/112.2 kB 2.0 MB/s eta 0:00:01\n",
      "   ---------------------------------------- 112.2/112.2 kB 1.6 MB/s eta 0:00:00\n",
      "Installing collected packages: html5lib\n",
      "Successfully installed html5lib-1.1\n"
     ]
    }
   ],
   "source": [
    "!pip install html5lib  lxml"
   ]
  },
  {
   "cell_type": "code",
   "execution_count": 66,
   "metadata": {
    "scrolled": true
   },
   "outputs": [
    {
     "name": "stderr",
     "output_type": "stream",
     "text": [
      "C:\\Users\\Yeon Je Chan\\AppData\\Local\\Programs\\Python\\Python312\\Lib\\site-packages\\bs4\\__init__.py:228: UserWarning: You provided Unicode markup but also provided a value for from_encoding. Your from_encoding will be ignored.\n",
      "  warnings.warn(\"You provided Unicode markup but also provided a value for from_encoding. Your from_encoding will be ignored.\")\n"
     ]
    },
    {
     "name": "stdout",
     "output_type": "stream",
     "text": [
      "\n",
      "      0      1          2        3          4       5\n",
      "0  거래량   매수호가   거래대금(백만)  시가총액(억)    영업이익(억)  PER(배)\n",
      "1   시가   매도호가      전일거래량  자산총계(억)    영업이익증가율  ROE(%)\n",
      "2   고가  매수총잔량      외국인비율  부채총계(억)   당기순이익(억)  ROA(%)\n",
      "3   저가  매도총잔량  상장주식수(천주)   매출액(억)   주당순이익(원)  PBR(배)\n",
      "4  NaN    NaN        NaN   매출액증가율  보통주배당금(원)  유보율(%)\n",
      "\n",
      "        N       종목명       현재가     전일비     등락률     액면가       시가총액      상장주식수  \\\n",
      "0    NaN       NaN       NaN     NaN     NaN     NaN        NaN        NaN   \n",
      "1    1.0      삼성전자   85300.0  1200.0  +1.43%   100.0  5092225.0  5969783.0   \n",
      "2    2.0    SK하이닉스  188000.0  8800.0  +4.91%  5000.0  1368644.0   728002.0   \n",
      "3    3.0  LG에너지솔루션  379500.0  3500.0  +0.93%   500.0   888030.0   234000.0   \n",
      "4    4.0  삼성바이오로직스  817000.0  5000.0  +0.62%  2500.0   581492.0    71174.0   \n",
      "..   ...       ...       ...     ...     ...     ...        ...        ...   \n",
      "76  49.0      한화오션   25850.0  1900.0  -6.85%  5000.0    79194.0   306359.0   \n",
      "77  50.0      대한항공   21250.0   250.0  -1.16%  5000.0    78247.0   368221.0   \n",
      "78   NaN       NaN       NaN     NaN     NaN     NaN        NaN        NaN   \n",
      "79   NaN       NaN       NaN     NaN     NaN     NaN        NaN        NaN   \n",
      "80   NaN       NaN       NaN     NaN     NaN     NaN        NaN        NaN   \n",
      "\n",
      "    외국인비율         거래량    PER    ROE  토론실  \n",
      "0     NaN         NaN    NaN    NaN  NaN  \n",
      "1   55.61  24810196.0  40.03   4.15  NaN  \n",
      "2   54.63   4612601.0 -15.02 -15.61  NaN  \n",
      "3    4.92    174230.0  71.78   6.36  NaN  \n",
      "4   12.01     34503.0  67.80   9.12  NaN  \n",
      "..    ...         ...    ...    ...  ...  \n",
      "76  16.99   4540621.0  34.15   6.33  NaN  \n",
      "77  16.68    948266.0   7.40  11.46  NaN  \n",
      "78    NaN         NaN    NaN    NaN  NaN  \n",
      "79    NaN         NaN    NaN    NaN  NaN  \n",
      "80    NaN         NaN    NaN    NaN  NaN  \n",
      "\n",
      "[81 rows x 13 columns]\n",
      "\n",
      "    0   1   2   3   4   5   6   7   8   9   10  11\n",
      "0   1   2   3   4   5   6   7   8   9  10  다음  맨뒤\n"
     ]
    }
   ],
   "source": [
    "import pandas as pd\n",
    "# 1) 웹페이지 읽어오기\n",
    "# 'euc-kr' 또는 'cp949'로 인코딩 설정하여 페이지 읽기 시도\n",
    "df_list = pd.read_html(\"https://finance.naver.com/sise/sise_market_sum.naver\", encoding = 'cp949')\n",
    "df_list\n",
    "type(df_list) # 인덱싱\n",
    "# 데이터프레임 확인\n",
    "for df in df_list:\n",
    "    print(\"\\n\",df)\n"
   ]
  },
  {
   "cell_type": "code",
   "execution_count": 69,
   "metadata": {},
   "outputs": [],
   "source": [
    "# 2) 데이터프레임 기공: csv파일로 저장하기\n",
    "df = df_list[1]\n",
    "type(df)\n",
    "df.head(10)\n",
    "# 1) 데이터프레임 탐색: 종목명 컬럼명으로 인덱싱 - NaN처리\n",
    "df['종목명']\n",
    "# 2) 조건색인\n",
    "cond = df['종목명'].notnull() # 불리언 시리즈\n",
    "data = df[cond] # 불리언색인을 이용하여 필터링\n",
    "data\n",
    "data.head()\n",
    "#3) 데이터프레임 저장\n",
    "data.to_csv(\"Naver_kospi.csv\")"
   ]
  },
  {
   "cell_type": "markdown",
   "metadata": {},
   "source": [
    "## 3.2 웹 스크래핑 - requests"
   ]
  },
  {
   "cell_type": "markdown",
   "metadata": {},
   "source": [
    "* 웹 페이지 정보 가져오기 - requests 패키지 이용\n",
    "  * requests.get()\n",
    "  * requests.get().status_code\n",
    "  * requests.get().text\n"
   ]
  },
  {
   "cell_type": "markdown",
   "metadata": {},
   "source": [
    "### [예제] 패키지 requests을 활용하여 웹페이지 json 데이터을 데이터프레임으로 변환하기"
   ]
  },
  {
   "cell_type": "code",
   "execution_count": 70,
   "metadata": {},
   "outputs": [
    {
     "name": "stdout",
     "output_type": "stream",
     "text": [
      "Requirement already satisfied: requests in c:\\users\\yeon je chan\\appdata\\local\\programs\\python\\python312\\lib\\site-packages (2.31.0)\n",
      "Requirement already satisfied: charset-normalizer<4,>=2 in c:\\users\\yeon je chan\\appdata\\local\\programs\\python\\python312\\lib\\site-packages (from requests) (3.3.2)\n",
      "Requirement already satisfied: idna<4,>=2.5 in c:\\users\\yeon je chan\\appdata\\local\\programs\\python\\python312\\lib\\site-packages (from requests) (3.6)\n",
      "Requirement already satisfied: urllib3<3,>=1.21.1 in c:\\users\\yeon je chan\\appdata\\local\\programs\\python\\python312\\lib\\site-packages (from requests) (2.2.1)\n",
      "Requirement already satisfied: certifi>=2017.4.17 in c:\\users\\yeon je chan\\appdata\\local\\programs\\python\\python312\\lib\\site-packages (from requests) (2024.2.2)\n",
      "Note: you may need to restart the kernel to use updated packages.\n"
     ]
    }
   ],
   "source": [
    "pip install requests"
   ]
  },
  {
   "cell_type": "code",
   "execution_count": 74,
   "metadata": {},
   "outputs": [
    {
     "data": {
      "text/plain": [
       "dict_keys(['url', 'repository_url', 'labels_url', 'comments_url', 'events_url', 'html_url', 'id', 'node_id', 'number', 'title', 'user', 'labels', 'state', 'locked', 'assignee', 'assignees', 'milestone', 'comments', 'created_at', 'updated_at', 'closed_at', 'author_association', 'active_lock_reason', 'body', 'reactions', 'timeline_url', 'performed_via_github_app', 'state_reason'])"
      ]
     },
     "execution_count": 74,
     "metadata": {},
     "output_type": "execute_result"
    }
   ],
   "source": [
    "import requests\n",
    "# 1. 타켓 웹사이트 접속\n",
    "url = \"https://api.github.com/repos/pandas-dev/pandas/issues\"\n",
    "resp = requests.get(url)\n",
    "resp.status_code\n",
    "# 2. 웹페이지 콘텐츠 읽어오기\n",
    "resp.text #문자열로 변환\n",
    "#pd.read_html(url)\n",
    "# 3. json 내용을 딕셔너리로 변환\n",
    "data = resp.json() # json의 내용을 딕셔너리 형태로 변환한 객체을 반환\n",
    "data\n",
    "type(data)\n",
    "len(data)\n",
    "data[0].keys()\n",
    "# data[0]['title']\n",
    "# data[0].keys() # 키 정보 출력\n",
    "# 4. 딕셔너리를 DataFrame으로 생성하기\n",
    "# issues = pd.DataFrame(data, columns=[\"number\", \"title\",\n",
    "#                                       \"labels\", \"state\"])\n",
    "# issues.head()\n"
   ]
  },
  {
   "cell_type": "markdown",
   "metadata": {},
   "source": [
    "### [문제] 네이버 블로그의 키워드 관련 검색 결과 텍스트 데이터 가져오기 - requests 모듈 사용시 한계점"
   ]
  },
  {
   "cell_type": "code",
   "execution_count": 75,
   "metadata": {
    "scrolled": true
   },
   "outputs": [
    {
     "ename": "SyntaxError",
     "evalue": "invalid decimal literal (481478602.py, line 2)",
     "output_type": "error",
     "traceback": [
      "\u001b[1;36m  Cell \u001b[1;32mIn[75], line 2\u001b[1;36m\u001b[0m\n\u001b[1;33m    url = https://section.blog.naver.com/Search/Post.naver?pageNo=1&rangeType=ALL&orderBy=sim&keyword=%ED%8C%8C%EC%9D%B4%EC%8D%AC\u001b[0m\n\u001b[1;37m                                                                                                          ^\u001b[0m\n\u001b[1;31mSyntaxError\u001b[0m\u001b[1;31m:\u001b[0m invalid decimal literal\n"
     ]
    }
   ],
   "source": [
    "import requests\n",
    "url = https://section.blog.naver.com/Search/Post.naver?pageNo=1&rangeType=ALL&orderBy=sim&keyword=%ED%8C%8C%EC%9D%B4%EC%8D%AC\n",
    "\n",
    "# params = {\n",
    "#     'pageNo' : 1,\n",
    "#     'rangeType' : 'ALL',\n",
    "#     'orderBy' : 'sim',\n",
    "#     'keyword' : '파이썬'\n",
    "# }\n",
    "\n",
    "# response = requests.get('https://section.blog.naver.com/Search/Post.naver?', params=params)\n",
    "response = requests.get(url)\n",
    "print(response.status_code) # HTTP GET 방식으로 URL 파라미터 값 전달\n",
    "print(response.url) # status_code 는 응답코드\n",
    "print(response.text) # text에는 HTML 코드"
   ]
  },
  {
   "cell_type": "markdown",
   "metadata": {},
   "source": [
    "## 3.3 웹 스크래핑 - beautifulsoup\n",
    "* 웹 페이지 정보 추출하기 - beautifulsoup 사용법 \n",
    "  * soup.select_one()\n",
    "  * soup.select()\n",
    "  * get_text()\n",
    "  * get_attribute()\n",
    "* 개발자 도구 사용"
   ]
  },
  {
   "cell_type": "code",
   "execution_count": 76,
   "metadata": {},
   "outputs": [
    {
     "name": "stdout",
     "output_type": "stream",
     "text": [
      "Requirement already satisfied: beautifulsoup4 in c:\\users\\yeon je chan\\appdata\\local\\programs\\python\\python312\\lib\\site-packages (4.12.3)\n",
      "Requirement already satisfied: soupsieve>1.2 in c:\\users\\yeon je chan\\appdata\\local\\programs\\python\\python312\\lib\\site-packages (from beautifulsoup4) (2.5)\n",
      "Note: you may need to restart the kernel to use updated packages.\n"
     ]
    }
   ],
   "source": [
    "pip install beautifulsoup4"
   ]
  },
  {
   "cell_type": "markdown",
   "metadata": {},
   "source": [
    "### [문제] 네이버 지식iN의 검색어 관련 검색 결과 제목 가져오기"
   ]
  },
  {
   "cell_type": "code",
   "execution_count": 80,
   "metadata": {},
   "outputs": [
    {
     "name": "stdout",
     "output_type": "stream",
     "text": [
      "비주얼스튜디오코드 파이썬 질문합니다,\n",
      "['https://kin.naver.com/qna/detail.naver?d1id=1&dirId=10402&docId=463767072&qb=7YyM7J207I2s&enc=utf8§ion=kin&rank=1&search_sort=0&spq=0']\n",
      "\n",
      " 비주얼스튜디오코드 파이썬 질문합니다,\n",
      "\n",
      " ['https://kin.naver.com/qna/detail.naver?d1id=1&dirId=10402&docId=463767072&qb=7YyM7J207I2s&enc=utf8§ion=kin&rank=1&search_sort=0&spq=0']\n",
      "\n",
      " 맥북 파이썬 idel\n",
      "\n",
      " ['https://kin.naver.com/qna/detail.naver?d1id=1&dirId=101&docId=464461438&qb=7YyM7J207I2s&enc=utf8§ion=kin&rank=2&search_sort=0&spq=0']\n",
      "\n",
      " 파이썬 모듈 미리 불러오기\n",
      "\n",
      " ['https://kin.naver.com/qna/detail.naver?d1id=1&dirId=1040104&docId=467081620&qb=7YyM7J207I2s&enc=utf8§ion=kin&rank=3&search_sort=0&spq=0']\n",
      "\n",
      " 파이썬과 자바\n",
      "\n",
      " ['https://kin.naver.com/qna/detail.naver?d1id=1&dirId=1040201&docId=466335010&qb=7YyM7J207I2s&enc=utf8§ion=kin&rank=4&search_sort=0&spq=0']\n",
      "\n",
      " 파이썬 질문...\n",
      "\n",
      " ['https://kin.naver.com/qna/detail.naver?d1id=1&dirId=10402&docId=467335944&qb=7YyM7J207I2s&enc=utf8§ion=kin&rank=5&search_sort=0&spq=0']\n",
      "\n",
      " IDLE 파이썬 단축키 알려주세요\n",
      "\n",
      " ['https://kin.naver.com/qna/detail.naver?d1id=1&dirId=10402&docId=465907571&qb=7YyM7J207I2s&enc=utf8§ion=kin&rank=6&search_sort=0&spq=0']\n",
      "\n",
      " 파이썬강좌 독학할때 뭐보나요??\n",
      "\n",
      " ['https://kin.naver.com/qna/detail.naver?d1id=11&dirId=110704&docId=465312496&qb=7YyM7J207I2s&enc=utf8§ion=kin&rank=7&search_sort=0&spq=0']\n",
      "\n",
      " 파이썬이 미래에 도움이 될까요?\n",
      "\n",
      " ['https://kin.naver.com/qna/detail.naver?d1id=3&dirId=31302&docId=466334742&qb=7YyM7J207I2s&enc=utf8§ion=kin&rank=8&search_sort=0&spq=0']\n",
      "\n",
      " 파이썬독학할 때 어떻게 공부를... \n",
      "\n",
      " ['https://kin.naver.com/qna/detail.naver?d1id=1&dirId=104&docId=459932179&qb=7YyM7J207I2s&enc=utf8§ion=kin&rank=9&search_sort=0&spq=0']\n",
      "\n",
      " 파이썬강의 듣는데가 있나요?\n",
      "\n",
      " ['https://kin.naver.com/qna/detail.naver?d1id=1&dirId=101&docId=464435194&qb=7YyM7J207I2s&enc=utf8§ion=kin&rank=10&search_sort=0&spq=0']\n"
     ]
    }
   ],
   "source": [
    "import requests\n",
    "from bs4 import BeautifulSoup\n",
    "# 타켓 웹사이트 지정\n",
    "url = 'https://kin.naver.com/search/list.naver?query=%ED%8C%8C%EC%9D%B4%EC%8D%AC'\n",
    "\n",
    "# 웹사이트 로딩 / 추출\n",
    "response = requests.get(url)\n",
    "\n",
    "if response.status_code == 200:\n",
    "    # html -> beautifulsoup 객체로 변환\n",
    "    soup = BeautifulSoup(response.text, 'html.parser')\n",
    "\n",
    "    # 제목 한개 선택하여 텍스트 가져오기\n",
    "    # s_content > div.section > ul > li:nth-child(1) > dl > dt > a\n",
    "    title = soup.select_one('#s_content > div.section > ul > li:nth-child(1) > dl > dt > a')\n",
    "    #print(title)\n",
    "    print(title.get_text())\n",
    "    print(title.get_attribute_list(\"href\"))\n",
    "\n",
    "    # 제목 여러 개 선택하여 텍스트 리스트 가져오기\n",
    "    #s_content > div.section > ul > li:nth-child(2) > dl > dt > a\n",
    "    #s_content > div.section > ul > li:nth-child(3) > dl > dt > a\n",
    "    titles = soup.select('#s_content > div.section > ul > li:nth-child(n) > dl > dt > a')\n",
    "    for title in titles:\n",
    "        print(\"\\n\",title.get_text())\n",
    "        print(\"\\n\",title.get_attribute_list(\"href\"))\n",
    "else : \n",
    "    print(response.status_code)\n",
    "\n"
   ]
  },
  {
   "cell_type": "markdown",
   "metadata": {},
   "source": [
    "## 3.4 웹 스크래핑 - Selenium을 이용하여 사이트 자동화하기\n",
    "* selenium 사용법\n",
    "  1. 시스템의 OS 및 Chrome 브라우저의 버전 확인\n",
    "  2. Chrome 드라이버 다운로드 및 설치\n",
    "  3. 크롬 드라이버을 프로젝트 폴더에 저장 - 크롬 드라이버의 설치 경로\n",
    "     * from selenium import webdriver\n",
    "     * driver = webdriver.Chrome()\n",
    "* 동적으로 웹 페이지 정보 추출하기\n",
    "     * driver.get(\"웹주소\") \n",
    "  "
   ]
  },
  {
   "cell_type": "markdown",
   "metadata": {},
   "source": [
    "### [예제] 패키지 Selenium을 활용하여 특정 웹사이트 자동으로 열기"
   ]
  },
  {
   "cell_type": "code",
   "execution_count": 24,
   "metadata": {
    "collapsed": true,
    "jupyter": {
     "outputs_hidden": true
    }
   },
   "outputs": [
    {
     "name": "stdout",
     "output_type": "stream",
     "text": [
      "Requirement already satisfied: selenium in c:\\users\\user\\appdata\\local\\programs\\python\\python311\\lib\\site-packages (4.19.0)\n",
      "Requirement already satisfied: urllib3<3,>=1.26 in c:\\users\\user\\appdata\\local\\programs\\python\\python311\\lib\\site-packages (from urllib3[socks]<3,>=1.26->selenium) (2.2.1)\n",
      "Requirement already satisfied: trio~=0.17 in c:\\users\\user\\appdata\\local\\programs\\python\\python311\\lib\\site-packages (from selenium) (0.25.0)\n",
      "Requirement already satisfied: trio-websocket~=0.9 in c:\\users\\user\\appdata\\local\\programs\\python\\python311\\lib\\site-packages (from selenium) (0.11.1)\n",
      "Requirement already satisfied: certifi>=2021.10.8 in c:\\users\\user\\appdata\\local\\programs\\python\\python311\\lib\\site-packages (from selenium) (2024.2.2)\n",
      "Requirement already satisfied: typing_extensions>=4.9.0 in c:\\users\\user\\appdata\\local\\programs\\python\\python311\\lib\\site-packages (from selenium) (4.10.0)\n",
      "Requirement already satisfied: attrs>=23.2.0 in c:\\users\\user\\appdata\\local\\programs\\python\\python311\\lib\\site-packages (from trio~=0.17->selenium) (23.2.0)\n",
      "Requirement already satisfied: sortedcontainers in c:\\users\\user\\appdata\\local\\programs\\python\\python311\\lib\\site-packages (from trio~=0.17->selenium) (2.4.0)\n",
      "Requirement already satisfied: idna in c:\\users\\user\\appdata\\local\\programs\\python\\python311\\lib\\site-packages (from trio~=0.17->selenium) (3.6)\n",
      "Requirement already satisfied: outcome in c:\\users\\user\\appdata\\local\\programs\\python\\python311\\lib\\site-packages (from trio~=0.17->selenium) (1.3.0.post0)\n",
      "Requirement already satisfied: sniffio>=1.3.0 in c:\\users\\user\\appdata\\local\\programs\\python\\python311\\lib\\site-packages (from trio~=0.17->selenium) (1.3.1)\n",
      "Requirement already satisfied: cffi>=1.14 in c:\\users\\user\\appdata\\local\\programs\\python\\python311\\lib\\site-packages (from trio~=0.17->selenium) (1.16.0)\n",
      "Requirement already satisfied: wsproto>=0.14 in c:\\users\\user\\appdata\\local\\programs\\python\\python311\\lib\\site-packages (from trio-websocket~=0.9->selenium) (1.2.0)\n",
      "Requirement already satisfied: pysocks!=1.5.7,<2.0,>=1.5.6 in c:\\users\\user\\appdata\\local\\programs\\python\\python311\\lib\\site-packages (from urllib3[socks]<3,>=1.26->selenium) (1.7.1)\n",
      "Requirement already satisfied: pycparser in c:\\users\\user\\appdata\\local\\programs\\python\\python311\\lib\\site-packages (from cffi>=1.14->trio~=0.17->selenium) (2.21)\n",
      "Requirement already satisfied: h11<1,>=0.9.0 in c:\\users\\user\\appdata\\local\\programs\\python\\python311\\lib\\site-packages (from wsproto>=0.14->trio-websocket~=0.9->selenium) (0.14.0)\n"
     ]
    }
   ],
   "source": [
    "!pip install selenium"
   ]
  },
  {
   "cell_type": "code",
   "execution_count": 26,
   "metadata": {},
   "outputs": [],
   "source": [
    "from selenium import webdriver\n",
    "# Chrome 브라우저 실행\n",
    "driver = webdriver.Chrome()\n",
    "# 웹페이지 열기\n",
    "url = \"https://www.google.com\"\n",
    "driver.get(url)"
   ]
  },
  {
   "cell_type": "markdown",
   "metadata": {},
   "source": [
    "### [문제] 패키지 Selenium을 활용하여 타겟 웹사이트 자동으로 열기/ 쿼리로 검색하기/ 검색 결과의 제목과 url을 자동으로 추출하여 저장하는 web crawler 만들기\n",
    "    * 사전 준비 작업 : 타겟 웹사이트을 구글 개발도구을 이용하여 탐색하기"
   ]
  },
  {
   "cell_type": "code",
   "execution_count": 27,
   "metadata": {
    "collapsed": true,
    "jupyter": {
     "outputs_hidden": true
    }
   },
   "outputs": [
    {
     "name": "stdout",
     "output_type": "stream",
     "text": [
      "제목: OpenAI\n",
      "URL: https://openai.com/\n",
      "\n",
      "제목: OpenAI\n",
      "URL: https://openai.com/\n",
      "\n",
      "제목: OpenAI\n",
      "URL: https://namu.wiki/w/OpenAI\n",
      "\n",
      "제목: OpenAI\n",
      "URL: https://en.wikipedia.org/wiki/OpenAI\n",
      "\n",
      "제목: 오픈AI - 위키백과, 우리 모두의 백과사전\n",
      "URL: https://ko.wikipedia.org/wiki/%EC%98%A4%ED%94%88AI\n",
      "\n",
      "제목: OpenAI\n",
      "URL: https://twitter.com/OpenAI\n",
      "\n",
      "제목: OpenAI\n",
      "URL: https://www.youtube.com/@OpenAI\n",
      "\n",
      "제목: OpenAI\n",
      "URL: https://www.linkedin.com/company/openai\n",
      "\n",
      "제목: 설명\n",
      "URL: https://www.google.com/search?q=OpenAI&sca_esv=2677688350dc5440&sca_upv=1&source=hp&ei=zmENZuTsNPXt1e8PsZiD8AU&iflsig=ANes7DEAAAAAZg1v3jtof4ODacYG44nksvbGEv5iyLUp&udm=&ved=0ahUKEwjki7uNm6aFAxX1dvUHHTHMAF4Q4dUDCA8&uact=5&oq=OpenAI&gs_lp=Egdnd3Mtd2l6IgZPcGVuQUlIPFAAWBBwAHgAkAEAmAEAoAEAqgEAuAEDyAEA-AEBmAIAoAIAmAMAkgcAoAcA&sclient=gws-wiz#\n",
      "\n"
     ]
    }
   ],
   "source": [
    "from selenium import webdriver\n",
    "from selenium.webdriver.common.by import By\n",
    "from selenium.webdriver.common.keys import Keys\n",
    "import time\n",
    "\n",
    "# Chrome 브라우저 실행\n",
    "driver = webdriver.Chrome()\n",
    "\n",
    "# Google 홈페이지 열기\n",
    "url = \"https://www.google.com\"\n",
    "driver.get(url)\n",
    "\n",
    "# 페이지가 완전히 로드될 때까지 2초 대기\n",
    "time.sleep(5)\n",
    "\n",
    "try:\n",
    "    # 검색 상자 요소 찾기\n",
    "    search_box = driver.find_element(By.NAME, \"q\")\n",
    "\n",
    "    # 검색어 입력\n",
    "    search_query = \"OpenAI\"\n",
    "    search_box.send_keys(search_query)\n",
    "\n",
    "    # Enter 키를 눌러 검색 수행\n",
    "    search_box.send_keys(Keys.RETURN)\n",
    "\n",
    "    # 검색 결과가 로드될 때까지 5초 대기\n",
    "    time.sleep(5)\n",
    "\n",
    "    # 검색 결과 추출\n",
    "    search_results = driver.find_elements(By.CSS_SELECTOR, \"div.g\")\n",
    "\n",
    "    # 검색 결과의 제목과 URL 인쇄\n",
    "    for result in search_results:\n",
    "        title = result.find_element(By.CSS_SELECTOR, \"h3\").text\n",
    "        url = result.find_element(By.CSS_SELECTOR, \"a\").get_attribute(\"href\")\n",
    "        print(\"제목:\", title)\n",
    "        print(\"URL:\", url)\n",
    "        print()\n",
    "\n",
    "except Exception as e:\n",
    "    print(\"오류가 발생했습니다:\", e)\n",
    "\n",
    "finally:\n",
    "    # 브라우저 창 닫기\n",
    "    driver.quit()\n"
   ]
  },
  {
   "cell_type": "code",
   "execution_count": null,
   "metadata": {},
   "outputs": [],
   "source": []
  }
 ],
 "metadata": {
  "kernelspec": {
   "display_name": "Python 3 (ipykernel)",
   "language": "python",
   "name": "python3"
  },
  "language_info": {
   "codemirror_mode": {
    "name": "ipython",
    "version": 3
   },
   "file_extension": ".py",
   "mimetype": "text/x-python",
   "name": "python",
   "nbconvert_exporter": "python",
   "pygments_lexer": "ipython3",
   "version": "3.12.2"
  }
 },
 "nbformat": 4,
 "nbformat_minor": 4
}
